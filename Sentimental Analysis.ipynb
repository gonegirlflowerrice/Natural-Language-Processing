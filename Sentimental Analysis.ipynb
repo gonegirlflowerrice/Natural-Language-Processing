{
 "cells": [
  {
   "cell_type": "code",
   "execution_count": 48,
   "id": "lesbian-capitol",
   "metadata": {},
   "outputs": [],
   "source": [
    "\n",
    "# importing module to read dataset\n",
    "\n",
    "import pandas as pd\n",
    "\n",
    "# importing model to find the sentiment Expressions \n",
    "\n",
    "from nltk.sentiment.vader import SentimentIntensityAnalyzer\n",
    "\n",
    "# initialize the model\n",
    "\n",
    "analyser = SentimentIntensityAnalyzer()\n"
   ]
  },
  {
   "cell_type": "code",
   "execution_count": 49,
   "id": "harmful-lobby",
   "metadata": {},
   "outputs": [],
   "source": [
    "\n",
    "# reading the dataset\n",
    "\n",
    "df = pd.read_json('reviewSelected100.json',lines=True)\n"
   ]
  },
  {
   "cell_type": "code",
   "execution_count": 50,
   "id": "03348396",
   "metadata": {},
   "outputs": [
    {
     "data": {
      "text/html": [
       "<div>\n",
       "<style scoped>\n",
       "    .dataframe tbody tr th:only-of-type {\n",
       "        vertical-align: middle;\n",
       "    }\n",
       "\n",
       "    .dataframe tbody tr th {\n",
       "        vertical-align: top;\n",
       "    }\n",
       "\n",
       "    .dataframe thead th {\n",
       "        text-align: right;\n",
       "    }\n",
       "</style>\n",
       "<table border=\"1\" class=\"dataframe\">\n",
       "  <thead>\n",
       "    <tr style=\"text-align: right;\">\n",
       "      <th></th>\n",
       "      <th>review_id</th>\n",
       "      <th>text</th>\n",
       "    </tr>\n",
       "  </thead>\n",
       "  <tbody>\n",
       "    <tr>\n",
       "      <th>0</th>\n",
       "      <td>8aoJJdKEO3ypoZNszpPu7Q</td>\n",
       "      <td>We had my Mother's Birthday Party here on 10/2...</td>\n",
       "    </tr>\n",
       "    <tr>\n",
       "      <th>1</th>\n",
       "      <td>J5NOCLdhuhor7USRhtYZ8w</td>\n",
       "      <td>Good Korean grill near Eaton Centre. The marin...</td>\n",
       "    </tr>\n",
       "    <tr>\n",
       "      <th>2</th>\n",
       "      <td>PXiLWAYRt3xnHaJ8MB4rzw</td>\n",
       "      <td>Was recommended to try this place by few peopl...</td>\n",
       "    </tr>\n",
       "    <tr>\n",
       "      <th>3</th>\n",
       "      <td>VrLarvxZYJm74yAqtpe9PQ</td>\n",
       "      <td>Ambience: Would not expect something this nice...</td>\n",
       "    </tr>\n",
       "    <tr>\n",
       "      <th>4</th>\n",
       "      <td>C1CUpidlVFprUCkApqzCmA</td>\n",
       "      <td>Absolutely the WORST pool company that I have ...</td>\n",
       "    </tr>\n",
       "  </tbody>\n",
       "</table>\n",
       "</div>"
      ],
      "text/plain": [
       "                review_id                                               text\n",
       "0  8aoJJdKEO3ypoZNszpPu7Q  We had my Mother's Birthday Party here on 10/2...\n",
       "1  J5NOCLdhuhor7USRhtYZ8w  Good Korean grill near Eaton Centre. The marin...\n",
       "2  PXiLWAYRt3xnHaJ8MB4rzw  Was recommended to try this place by few peopl...\n",
       "3  VrLarvxZYJm74yAqtpe9PQ  Ambience: Would not expect something this nice...\n",
       "4  C1CUpidlVFprUCkApqzCmA  Absolutely the WORST pool company that I have ..."
      ]
     },
     "execution_count": 50,
     "metadata": {},
     "output_type": "execute_result"
    }
   ],
   "source": [
    "\n",
    "# converting the dataset text column to type text\n",
    "\n",
    "df[\"text\"].astype(str)\n",
    "\n",
    "# displaying the head of data \n",
    "\n",
    "df[['review_id','text']].head()\n"
   ]
  },
  {
   "cell_type": "code",
   "execution_count": 51,
   "id": "verbal-indonesia",
   "metadata": {},
   "outputs": [
    {
     "name": "stdout",
     "output_type": "stream",
     "text": [
      "<class 'pandas.core.frame.DataFrame'>\n",
      "RangeIndex: 15300 entries, 0 to 15299\n",
      "Data columns (total 9 columns):\n",
      " #   Column       Non-Null Count  Dtype         \n",
      "---  ------       --------------  -----         \n",
      " 0   review_id    15300 non-null  object        \n",
      " 1   user_id      15300 non-null  object        \n",
      " 2   business_id  15300 non-null  object        \n",
      " 3   stars        15300 non-null  int64         \n",
      " 4   useful       15300 non-null  int64         \n",
      " 5   funny        15300 non-null  int64         \n",
      " 6   cool         15300 non-null  int64         \n",
      " 7   text         15300 non-null  object        \n",
      " 8   date         15300 non-null  datetime64[ns]\n",
      "dtypes: datetime64[ns](1), int64(4), object(4)\n",
      "memory usage: 1.1+ MB\n"
     ]
    }
   ],
   "source": [
    "\n",
    "# checking dataset info \n",
    "\n",
    "df.info()\n"
   ]
  },
  {
   "cell_type": "code",
   "execution_count": 52,
   "id": "surrounded-restoration",
   "metadata": {},
   "outputs": [],
   "source": [
    "\n",
    "# implement the sentiment expression model\n",
    "\n",
    "def fetch_sentiment(text):\n",
    "    \n",
    "    # applying the model on each review text and get it's expression score\n",
    "    \n",
    "    polarity_scores = analyser.polarity_scores(text.lower())\n",
    "    \n",
    "    # if the expression score > 0.05 then assign postive expression\n",
    "    \n",
    "    if polarity_scores['compound'] >= 0.05:\n",
    "        \n",
    "        # send back results\n",
    "        \n",
    "        return 'Positive'\n",
    "    \n",
    "    # if the expression score < -0.05 then assign negitive expression\n",
    "    \n",
    "    elif polarity_scores['compound'] <= -0.05:\n",
    "        \n",
    "        # send back results\n",
    "            \n",
    "        return 'Negative '\n",
    "    \n",
    "    # if the expression score = 0 then assign neutral expression\n",
    "    \n",
    "    else:\n",
    "        \n",
    "        # send back results\n",
    "        \n",
    "        return 'Neutral'\n",
    "    "
   ]
  },
  {
   "cell_type": "code",
   "execution_count": 53,
   "id": "incoming-vegetable",
   "metadata": {},
   "outputs": [],
   "source": [
    "\n",
    "# applying the model on each review text of dataset and assign to Expression\n",
    "\n",
    "df[\"Expression\"]= df[\"text\"].apply(lambda x: fetch_sentiment(x))\n"
   ]
  },
  {
   "cell_type": "code",
   "execution_count": 54,
   "id": "98914060",
   "metadata": {},
   "outputs": [
    {
     "data": {
      "text/html": [
       "<div>\n",
       "<style scoped>\n",
       "    .dataframe tbody tr th:only-of-type {\n",
       "        vertical-align: middle;\n",
       "    }\n",
       "\n",
       "    .dataframe tbody tr th {\n",
       "        vertical-align: top;\n",
       "    }\n",
       "\n",
       "    .dataframe thead th {\n",
       "        text-align: right;\n",
       "    }\n",
       "</style>\n",
       "<table border=\"1\" class=\"dataframe\">\n",
       "  <thead>\n",
       "    <tr style=\"text-align: right;\">\n",
       "      <th></th>\n",
       "      <th>review_id</th>\n",
       "      <th>text</th>\n",
       "      <th>Expression</th>\n",
       "    </tr>\n",
       "  </thead>\n",
       "  <tbody>\n",
       "    <tr>\n",
       "      <th>0</th>\n",
       "      <td>8aoJJdKEO3ypoZNszpPu7Q</td>\n",
       "      <td>We had my Mother's Birthday Party here on 10/2...</td>\n",
       "      <td>Positive</td>\n",
       "    </tr>\n",
       "    <tr>\n",
       "      <th>1</th>\n",
       "      <td>J5NOCLdhuhor7USRhtYZ8w</td>\n",
       "      <td>Good Korean grill near Eaton Centre. The marin...</td>\n",
       "      <td>Positive</td>\n",
       "    </tr>\n",
       "    <tr>\n",
       "      <th>2</th>\n",
       "      <td>PXiLWAYRt3xnHaJ8MB4rzw</td>\n",
       "      <td>Was recommended to try this place by few peopl...</td>\n",
       "      <td>Positive</td>\n",
       "    </tr>\n",
       "    <tr>\n",
       "      <th>3</th>\n",
       "      <td>VrLarvxZYJm74yAqtpe9PQ</td>\n",
       "      <td>Ambience: Would not expect something this nice...</td>\n",
       "      <td>Positive</td>\n",
       "    </tr>\n",
       "    <tr>\n",
       "      <th>4</th>\n",
       "      <td>C1CUpidlVFprUCkApqzCmA</td>\n",
       "      <td>Absolutely the WORST pool company that I have ...</td>\n",
       "      <td>Negative</td>\n",
       "    </tr>\n",
       "  </tbody>\n",
       "</table>\n",
       "</div>"
      ],
      "text/plain": [
       "                review_id                                               text  \\\n",
       "0  8aoJJdKEO3ypoZNszpPu7Q  We had my Mother's Birthday Party here on 10/2...   \n",
       "1  J5NOCLdhuhor7USRhtYZ8w  Good Korean grill near Eaton Centre. The marin...   \n",
       "2  PXiLWAYRt3xnHaJ8MB4rzw  Was recommended to try this place by few peopl...   \n",
       "3  VrLarvxZYJm74yAqtpe9PQ  Ambience: Would not expect something this nice...   \n",
       "4  C1CUpidlVFprUCkApqzCmA  Absolutely the WORST pool company that I have ...   \n",
       "\n",
       "  Expression  \n",
       "0   Positive  \n",
       "1   Positive  \n",
       "2   Positive  \n",
       "3   Positive  \n",
       "4  Negative   "
      ]
     },
     "execution_count": 54,
     "metadata": {},
     "output_type": "execute_result"
    }
   ],
   "source": [
    "\n",
    "# displaying the head of dataset\n",
    "\n",
    "df[['review_id','text','Expression']].head()\n"
   ]
  },
  {
   "cell_type": "code",
   "execution_count": 57,
   "id": "69f7e33b",
   "metadata": {},
   "outputs": [
    {
     "data": {
      "text/plain": [
       "<AxesSubplot:ylabel='Expression'>"
      ]
     },
     "execution_count": 57,
     "metadata": {},
     "output_type": "execute_result"
    },
    {
     "data": {
      "image/png": "[encoded data removed]",
      "text/plain": [
       "<Figure size 432x288 with 1 Axes>"
      ]
     },
     "metadata": {},
     "output_type": "display_data"
    }
   ],
   "source": [
    "# displaying results in pie chart\n",
    "df.groupby('Expression')['Expression'].count().plot(kind = 'pie', autopct='%1.1f%%')"
   ]
  },
  {
   "cell_type": "code",
   "execution_count": 56,
   "id": "bridal-editing",
   "metadata": {},
   "outputs": [],
   "source": [
    "\n",
    "# saving results back to a csv file\n",
    "\n",
    "df.to_csv(\"Mining_Result.csv\",index = False)\n",
    "\n",
    "# saving results back to a json file\n",
    "\n",
    "df.to_json(\"Mining_Result.json\",orient='records')\n"
   ]
  },
  {
   "cell_type": "code",
   "execution_count": null,
   "id": "049a37de",
   "metadata": {},
   "outputs": [],
   "source": []
  }
 ],
 "metadata": {
  "kernelspec": {
   "display_name": "Python 3",
   "language": "python",
   "name": "python3"
  },
  "language_info": {
   "codemirror_mode": {
    "name": "ipython",
    "version": 3
   },
   "file_extension": ".py",
   "mimetype": "text/x-python",
   "name": "python",
   "nbconvert_exporter": "python",
   "pygments_lexer": "ipython3",
   "version": "3.8.8"
  }
 },
 "nbformat": 4,
 "nbformat_minor": 5
}
