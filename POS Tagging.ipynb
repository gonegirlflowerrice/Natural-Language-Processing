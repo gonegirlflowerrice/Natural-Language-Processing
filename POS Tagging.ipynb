{
    "cells": [
        {
            "cell_type": "code",
            "execution_count": 1,
            "source": [
                "import nltk\r\n",
                "from nltk.tag import BigramTagger\r\n",
                "import pandas as pd\r\n",
                "import json\r\n",
                "\r\n",
                "import importlib\r\n",
                "import nlp_pos\r\n",
                "nlp_pos = importlib.reload(nlp_pos)\r\n",
                "\r\n",
                "#nltk.download_gui()"
            ],
            "outputs": [],
            "metadata": {}
        },
        {
            "cell_type": "markdown",
            "source": [
                "# Read the review into a dataframe"
            ],
            "metadata": {}
        },
        {
            "cell_type": "code",
            "execution_count": 2,
            "source": [
                "reviews = []\r\n",
                "with open('reviewSelected100.json','r') as json_file:\r\n",
                "    for line in json_file:\r\n",
                "        reviews.append(json.loads(line))\r\n",
                "\r\n",
                "reviews_df = pd.DataFrame(reviews)"
            ],
            "outputs": [],
            "metadata": {}
        },
        {
            "cell_type": "markdown",
            "source": [
                "# Get 5 random reviews and store their indexes for the future"
            ],
            "metadata": {}
        },
        {
            "cell_type": "code",
            "execution_count": 3,
            "source": [
                "def get_random_indexes(num=5):\r\n",
                "    random_rows = reviews_df.sample(n = num)\r\n",
                "    return random_rows.index\r\n",
                "\r\n",
                "review_indexes = [7077, 15123, 14929, 4627, 2000] #Retrieved with the above function\r\n",
                "random_rows = reviews_df['text'].loc[review_indexes]\r\n",
                "random_rows = random_rows.reset_index(drop=True)\r\n",
                "random_rows.head()"
            ],
            "outputs": [
                {
                    "output_type": "execute_result",
                    "data": {
                        "text/plain": [
                            "0    Store is clean and toppings look yummy, BUT\\n\\...\n",
                            "1    I travel every week.  I stay in Hampton s a lo...\n",
                            "2    I came here to eat on a Saturday night and ord...\n",
                            "3    We used Truecar to find a car we kinda liked. ...\n",
                            "4    the service wasnt really good , it was dead sl...\n",
                            "Name: text, dtype: object"
                        ]
                    },
                    "metadata": {},
                    "execution_count": 3
                }
            ],
            "metadata": {}
        },
        {
            "cell_type": "code",
            "execution_count": 4,
            "source": [
                "nlp_pos = importlib.reload(nlp_pos)\r\n",
                "from nlp_pos import clean_text\r\n",
                "\r\n",
                "for i in random_rows.index:\r\n",
                "    random_rows[i] = clean_text(random_rows[i])\r\n",
                "    print(i,random_rows[i])"
            ],
            "outputs": [
                {
                    "output_type": "stream",
                    "name": "stdout",
                    "text": [
                        "0 store is clean and toppings look yummy but\n",
                        "\n",
                        "the tart flavor taste so bad I have visited twice and both times it taste sour\n",
                        "\n",
                        "please throw away bad yogurt\n",
                        "1 i travel every week i stay in hampton s a lot \n",
                        "this one is not up to par the shuttle never arrived after an hour no one cared it is in a warehouse area and does not feel very safe \n",
                        "\n",
                        "so disappointed\n",
                        "2 i came here to eat on a saturday night and ordered the ayce ordered the spicy sushi roll and it did not look fresh the rice broke apart and salmon was unappealing later ordered some dimsum and it looked as if was microwaved i decided to give them the 3 star for their attentive service and willingness to move to a warm table since their original spot by the door was freezing\n",
                        "3 we used truecar to find a car we kind of liked ronnie texted me back right away this was early morning on a sunday she came in found out later it was her day off to show is the car she gave us the best service i have ever had while car shopping she talked with us as a friend not a salesperson she made us feel very comfortable and was not pushy seems like a sales tactic turns out they do not make comission every single person we walked by greeted us were so nice and knowledgeable\n",
                        "\n",
                        "we will be buying our cars from them for life\n",
                        "4 the service was not really good it was dead slow.the price is not really worth the food there i got this pho called pho dac biet and the noodles was like a ball of noodles stuck together the rice there is not good too like its a small bowl of rice flipped over on the plate to make it look good but the problem is the rice looks nice but the whole plate of rice meat and egg just looks weird like a face drew by a 2 year old no offense\n"
                    ]
                }
            ],
            "metadata": {}
        },
        {
            "cell_type": "code",
            "execution_count": 5,
            "source": [
                "import nltk\r\n",
                "import nltk.tag as tag\r\n",
                "import nlp_pos\r\n",
                "\r\n",
                "train_corpus = nltk.corpus.treebank.tagged_sents()\r\n",
                "\r\n",
                "tnt = tag.TnT()\r\n",
                "tnt.train(train_corpus)"
            ],
            "outputs": [],
            "metadata": {}
        },
        {
            "cell_type": "code",
            "execution_count": 6,
            "source": [
                "import nlp_pos\r\n",
                "nlp_pos = importlib.reload(nlp_pos)\r\n",
                "\r\n",
                "from nlp_pos import spacy_analyse_review,nltk_analyse_review\r\n",
                "from nlp_pos import dict_of_sets_to_column,list_of_tuple_to_column\r\n",
                "\r\n",
                "nlp_pos = importlib.reload(nlp_pos)\r\n",
                "\r\n",
                "def analyse( analyse_method:callable, args:list, df_col_name:str=\"tags\"):\r\n",
                "    \"\"\"\r\n",
                "    returns:\r\n",
                "    tag_dict_col_df: df of tags assigned to each unique word\r\n",
                "    tagged_tk_df: df of each pos-tags of the text\r\n",
                "    \"\"\"\r\n",
                "    tagged_tokens, tags_per_word = analyse_method(*args)\r\n",
                "    tag_dict_col_df = dict_of_sets_to_column(tags_per_word,df_col_name)\r\n",
                "    tagged_tk_df = list_of_tuple_to_column(tagged_tokens,df_col_name)\r\n",
                "    return tag_dict_col_df, tagged_tk_df\r\n",
                "\r\n",
                "def analyse_text(text:str):\r\n",
                "    spacy_dict_df, spacy_pos_df = analyse(spacy_analyse_review,[text],\"spacy\")\r\n",
                "    nltk_dict_df, nltk_pos_df = analyse(nltk_analyse_review,[text,None],\"nltk\")\r\n",
                "    tnt_dict_df, tnt_pos_df = analyse(nltk_analyse_review,[text, tnt.tag],\"tnt\")\r\n",
                "\r\n",
                "    tags_df = pd.concat([spacy_dict_df,nltk_dict_df['nltk'],tnt_dict_df['tnt']], axis=1)\r\n",
                "    tagged_tk_df = pd.concat([spacy_pos_df,nltk_pos_df['nltk'], tnt_pos_df['tnt']], axis=1)\r\n",
                "\r\n",
                "    return tags_df, tagged_tk_df"
            ],
            "outputs": [],
            "metadata": {}
        },
        {
            "cell_type": "code",
            "execution_count": 7,
            "source": [
                "tags_per_word_df = []\r\n",
                "tagged_tokens_df = []\r\n",
                "for i in range(5):\r\n",
                "    t1, t2 = analyse_text(random_rows[i])\r\n",
                "    tags_per_word_df.append(t1)\r\n",
                "    tagged_tokens_df.append(t2)\r\n",
                "\r\n",
                "\r\n",
                "with pd.ExcelWriter('five_reviews_pos_tag.xlsx') as writer:\r\n",
                "    for i in range(5):\r\n",
                "        tagged_tokens_df[i].to_excel(writer, sheet_name=f'S{i}')\r\n",
                "\r\n"
            ],
            "outputs": [],
            "metadata": {}
        }
    ],
    "metadata": {
        "orig_nbformat": 4,
        "language_info": {
            "name": "python",
            "version": "3.9.6",
            "mimetype": "text/x-python",
            "codemirror_mode": {
                "name": "ipython",
                "version": 3
            },
            "pygments_lexer": "ipython3",
            "nbconvert_exporter": "python",
            "file_extension": ".py"
        },
        "kernelspec": {
            "name": "python3",
            "display_name": "Python 3.9.6 64-bit"
        },
        "interpreter": {
            "hash": "ac59ebe37160ed0dfa835113d9b8498d9f09ceb179beaac4002f036b9467c963"
        }
    },
    "nbformat": 4,
    "nbformat_minor": 2
}